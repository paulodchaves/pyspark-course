{
 "cells": [
  {
   "cell_type": "raw",
   "metadata": {},
   "source": [
    "# Treinamento de PySpark para Engenheiros\n",
    "## 01. Configuração do ambiente\n",
    "\n",
    "### Objetivo\n",
    "Configurar o ambiente local para trabalhar com o Pyspark."
   ]
  },
  {
   "cell_type": "markdown",
   "metadata": {},
   "source": [
    "### Iniciando\n",
    "Vamos começar com um arquivo de requirements simples com apenas `pyspark`."
   ]
  },
  {
   "cell_type": "code",
   "execution_count": 1,
   "metadata": {},
   "outputs": [
    {
     "name": "stdout",
     "output_type": "stream",
     "text": [
      "Overwriting requirements.txt\n"
     ]
    }
   ],
   "source": [
    "%%file requirements.txt\n",
    "pyspark\n",
    "pandas\n",
    "numpy"
   ]
  },
  {
   "cell_type": "markdown",
   "metadata": {},
   "source": [
    "#### Local"
   ]
  },
  {
   "cell_type": "markdown",
   "metadata": {},
   "source": [
    "```bash\n",
    "colaborador@e2fe857d57c5:~/notebooks$ pip install -r requirements.txt\n",
    "colaborador@e2fe857d57c5:~/notebooks$ pyspark --version\n",
    "Welcome to\n",
    "      ____              __\n",
    "     / __/__  ___ _____/ /__\n",
    "    _\\ \\/ _ \\/ _ `/ __/  '_/\n",
    "   /___/ .__/\\_,_/_/ /_/\\_\\   version 3.3.0\n",
    "      /_/\n",
    "                        \n",
    "Using Scala version 2.12.15, OpenJDK 64-Bit Server VM, 17.0.3\n",
    "Branch HEAD\n",
    "Compiled by user ubuntu on 2022-06-09T19:58:58Z\n",
    "Revision f74867bddfbcdd4d08076db36851e88b15e66556\n",
    "Url https://github.com/apache/spark\n",
    "Type --help for more information.\n",
    "```"
   ]
  },
  {
   "cell_type": "markdown",
   "metadata": {},
   "source": [
    "### Useful links\n",
    "\n",
    "[Managing environments with Conda](https://conda.io/docs/user-guide/tasks/manage-environments.html)\n",
    "\n",
    "[PySpark Docker GitHub](https://github.com/jupyter/docker-stacks/tree/master/pyspark-notebook)"
   ]
  }
 ],
 "metadata": {
  "kernelspec": {
   "display_name": "Python 3 (ipykernel)",
   "language": "python",
   "name": "python3"
  },
  "language_info": {
   "codemirror_mode": {
    "name": "ipython",
    "version": 3
   },
   "file_extension": ".py",
   "mimetype": "text/x-python",
   "name": "python",
   "nbconvert_exporter": "python",
   "pygments_lexer": "ipython3",
   "version": "3.10.4"
  },
  "vscode": {
   "interpreter": {
    "hash": "b0fa6594d8f4cbf19f97940f81e996739fb7646882a419484c72d19e05852a7e"
   }
  }
 },
 "nbformat": 4,
 "nbformat_minor": 4
}
