{
 "cells": [
  {
   "cell_type": "code",
   "execution_count": null,
   "metadata": {},
   "outputs": [],
   "source": [
    "# Treinamento de PySpark para Engenheiros\n",
    "## 02. Conceitos básicos de PySpark\n",
    "\n",
    "### Objetivo\n",
    "\n",
    "* Aprender a criar DataFrames\n",
    "* Aprender a manipular colunas"
   ]
  },
  {
   "cell_type": "markdown",
   "metadata": {},
   "source": [
    "### Highlights\n",
    "\n",
    "* `SparkContext.getOrCreate()` Obtenha ou instancie um SparkContext e registre-o como um objeto singleton.\n",
    "* `SparkSession()` SparkSession, os aplicativos podem criar DataFrames a partir de um RDD existente, de uma tabela Hive ou de fontes de dados Spark.\n",
    "* `sc.parallelize` é uma função no SparkContext e é usada para criar um RDD de uma coleção de listas.\n",
    "* `spark.read.load()` informa ao Spark que o arquivo contém uma linha de cabeçalho.\n",
    "\n",
    "### Implementação\n",
    "Para cada JOB PySpark, **always create a context**. Isso basicamente significa que você obtém um (ou mais) contêineres executando um JOB PySpark alocado para você/aplicação."
   ]
  },
  {
   "cell_type": "code",
   "execution_count": 8,
   "metadata": {},
   "outputs": [],
   "source": [
    "import pandas as pd\n",
    "import numpy as np\n",
    "from pyspark.sql import SparkSession\n",
    "from pyspark import SparkContext\n",
    "from pyspark.sql.functions import *\n",
    "\n",
    "#-----------------------------------#\n",
    "\n",
    "sc = SparkContext.getOrCreate()\n",
    "spark =  SparkSession(sc)"
   ]
  },
  {
   "cell_type": "markdown",
   "metadata": {},
   "source": [
    "Verificar se o Spark context foi criado:"
   ]
  },
  {
   "cell_type": "code",
   "execution_count": 22,
   "metadata": {},
   "outputs": [
    {
     "data": {
      "text/html": [
       "\n",
       "            <div>\n",
       "                <p><b>SparkSession - in-memory</b></p>\n",
       "                \n",
       "        <div>\n",
       "            <p><b>SparkContext</b></p>\n",
       "\n",
       "            <p><a href=\"http://725f25dcee21:4040\">Spark UI</a></p>\n",
       "\n",
       "            <dl>\n",
       "              <dt>Version</dt>\n",
       "                <dd><code>v3.2.1</code></dd>\n",
       "              <dt>Master</dt>\n",
       "                <dd><code>local[*]</code></dd>\n",
       "              <dt>AppName</dt>\n",
       "                <dd><code>pyspark-shell</code></dd>\n",
       "            </dl>\n",
       "        </div>\n",
       "        \n",
       "            </div>\n",
       "        "
      ],
      "text/plain": [
       "<pyspark.sql.session.SparkSession at 0xffff9d618e80>"
      ]
     },
     "execution_count": 22,
     "metadata": {},
     "output_type": "execute_result"
    }
   ],
   "source": [
    "spark"
   ]
  },
  {
   "cell_type": "markdown",
   "metadata": {},
   "source": [
    "#### Criando Data Frames"
   ]
  },
  {
   "cell_type": "code",
   "execution_count": 14,
   "metadata": {},
   "outputs": [
    {
     "name": "stdout",
     "output_type": "stream",
     "text": [
      "Overwriting csvfile01.csv\n"
     ]
    }
   ],
   "source": [
    "%%file csvfile01.csv\n",
    "paulo,chaves,bot,34\n",
    "silvio,dias,bot,35"
   ]
  },
  {
   "cell_type": "code",
   "execution_count": 15,
   "metadata": {},
   "outputs": [
    {
     "name": "stdout",
     "output_type": "stream",
     "text": [
      "Writing csvfile02.csv\n"
     ]
    }
   ],
   "source": [
    "%%file csvfile02.csv\n",
    "camila,silva,eudora,31\n",
    "priscila,alves,eudora,18"
   ]
  },
  {
   "cell_type": "code",
   "execution_count": 7,
   "metadata": {},
   "outputs": [],
   "source": [
    "## RDD"
   ]
  },
  {
   "cell_type": "markdown",
   "metadata": {},
   "source": [
    "## RDD\n",
    "\n",
    "RDD (Resilient Distributed Dataset) é um bloco de construção fundamental do PySpark, que é uma coleção de objetos distribuídos imutáveis ​​e tolerantes a falhas. Significado imutável, uma vez que você cria um RDD, não pode alterá-lo. Cada registro no RDD é dividido em partições lógicas, que podem ser computadas em diferentes nós do cluster\n",
    "\n",
    "<img src=\"https://sparkbyexamples.com/wp-content/uploads/2020/08/rdd-creation-1024x635.png\"/>\n"
   ]
  },
  {
   "cell_type": "code",
   "execution_count": 10,
   "metadata": {},
   "outputs": [
    {
     "name": "stdout",
     "output_type": "stream",
     "text": [
      "root\n",
      " |-- _1: string (nullable = true)\n",
      " |-- _2: string (nullable = true)\n",
      "\n"
     ]
    }
   ],
   "source": [
    "#1. Spark Create DataFrame from RDD\n",
    "\n",
    "columns  =  ('languages','users')\n",
    "data = (('java','2000'),('python','30000'))\n",
    "rdd  = sc.parallelize(data)\n",
    "\n",
    "df_rdd = rdd.toDF()\n",
    "df_rdd.printSchema()"
   ]
  },
  {
   "cell_type": "code",
   "execution_count": 11,
   "metadata": {},
   "outputs": [
    {
     "name": "stdout",
     "output_type": "stream",
     "text": [
      "+--------+------------------+\n",
      "|     key|               val|\n",
      "+--------+------------------+\n",
      "|language|[python, java, c#]|\n",
      "|    user|   [30k, 20k, 10k]|\n",
      "|   spped|      [2x, 4x, 8x]|\n",
      "+--------+------------------+\n",
      "\n"
     ]
    }
   ],
   "source": [
    "# 2. Create DataFrame from Dictionary\n",
    "\n",
    "data_map = { 'language':['python','java','c#'],\n",
    "         'user':['30k','20k','10k'],\n",
    "        'spped': ['2x','4x','8x']}\n",
    "\n",
    "\n",
    "map_1 = [(k,)+(v,) for k,v in data_map.items()]\n",
    "\n",
    "\n",
    "df = spark.createDataFrame(map_1,['key','val'])\n",
    "\n",
    "df.show()"
   ]
  },
  {
   "cell_type": "code",
   "execution_count": 13,
   "metadata": {},
   "outputs": [
    {
     "name": "stdout",
     "output_type": "stream",
     "text": [
      "+---+----------+----------+\n",
      "| id|created_at|updated_at|\n",
      "+---+----------+----------+\n",
      "|  1|  12102021|  13102021|\n",
      "|  2|  11112021|  21112021|\n",
      "|  3|   2102021|  15102021|\n",
      "+---+----------+----------+\n",
      "\n"
     ]
    }
   ],
   "source": [
    "#3. Using createDataFrame() with the Row type\n",
    "\n",
    "from pyspark.sql.types import StructType,StructField,IntegerType,StringType\n",
    "\n",
    "data = [(1,'12102021','13102021'),\n",
    "       (2,'11112021','21112021'),\n",
    "       (3,'2102021','15102021')]\n",
    "schema = StructType([\n",
    "    StructField(\"id\", IntegerType(), True),\n",
    "    StructField(\"created_at\", StringType(), True),\n",
    "    StructField(\"updated_at\", StringType(), True)\n",
    "])\n",
    "\n",
    "df2  = spark.createDataFrame(data= data,schema  = schema)\n",
    "df2.show()"
   ]
  },
  {
   "cell_type": "code",
   "execution_count": null,
   "metadata": {},
   "outputs": [],
   "source": [
    "Verifique o caminho absoluto do CSV:"
   ]
  },
  {
   "cell_type": "code",
   "execution_count": 14,
   "metadata": {},
   "outputs": [
    {
     "name": "stdout",
     "output_type": "stream",
     "text": [
      "/home/colaborador/notebooks\n"
     ]
    }
   ],
   "source": [
    "!pwd"
   ]
  },
  {
   "cell_type": "code",
   "execution_count": 15,
   "metadata": {},
   "outputs": [
    {
     "name": "stdout",
     "output_type": "stream",
     "text": [
      "+--------+-------------------+--------+-----------+----------+---------+\n",
      "|     _c0|                _c1|     _c2|        _c3|       _c4|      _c5|\n",
      "+--------+-------------------+--------+-----------+----------+---------+\n",
      "|ID_MARCA|              MARCA|ID_LINHA|      LINHA|DATA_VENDA|QTD_VENDA|\n",
      "|       4|               VULT|       2| PERFUMARIA|01/15/2019|        7|\n",
      "|       4|               VULT|       2| PERFUMARIA|10/12/2019|        2|\n",
      "|       3|QUEM DISSE BERENICE|       5|HIDRATANTES|09/01/2019|        3|\n",
      "|       3|QUEM DISSE BERENICE|       3|  MAQUIAGEM|07/29/2019|       17|\n",
      "|       1|          BOTICÁRIO|       4|      SOLAR|11/15/2019|       19|\n",
      "|       2|             EUDORA|       1|    CABELOS|03/08/2019|        9|\n",
      "|       2|             EUDORA|       4|      SOLAR|02/24/2019|        6|\n",
      "|       3|QUEM DISSE BERENICE|       1|    CABELOS|09/27/2019|        4|\n",
      "|       5|      BELEZA NA WEB|       3|  MAQUIAGEM|01/26/2019|       12|\n",
      "|       4|               VULT|       1|    CABELOS|02/24/2019|        9|\n",
      "|       3|QUEM DISSE BERENICE|       2| PERFUMARIA|10/18/2019|        7|\n",
      "|       3|QUEM DISSE BERENICE|       4|      SOLAR|06/03/2019|       19|\n",
      "|       2|             EUDORA|       5|HIDRATANTES|06/03/2019|       14|\n",
      "|       4|               VULT|       5|HIDRATANTES|10/08/2019|       19|\n",
      "|       1|          BOTICÁRIO|       1|    CABELOS|05/07/2019|       12|\n",
      "|       2|             EUDORA|       4|      SOLAR|10/29/2019|       13|\n",
      "|       5|      BELEZA NA WEB|       5|HIDRATANTES|01/05/2019|        6|\n",
      "|       2|             EUDORA|       5|HIDRATANTES|06/16/2019|       18|\n",
      "|       2|             EUDORA|       3|  MAQUIAGEM|04/22/2019|       15|\n",
      "+--------+-------------------+--------+-----------+----------+---------+\n",
      "only showing top 20 rows\n",
      "\n"
     ]
    }
   ],
   "source": [
    "#4.  Create Spark DataFrame from CSV\n",
    "\n",
    "\n",
    "filename  ='/home/colaborador/notebooks/Base_2019.csv'\n",
    "\n",
    "df  = spark.read.csv(filename)\n",
    "df.show()\n"
   ]
  },
  {
   "cell_type": "code",
   "execution_count": 16,
   "metadata": {},
   "outputs": [
    {
     "data": {
      "text/plain": [
       "'Other fomat supported \\nXml\\njson\\ntext\\ntsv\\navro\\nparquet\\n HBase\\njdbc\\nhive\\n'"
      ]
     },
     "execution_count": 16,
     "metadata": {},
     "output_type": "execute_result"
    }
   ],
   "source": [
    "'''Other fomat supported \n",
    "Xml\n",
    "json\n",
    "text\n",
    "tsv\n",
    "avro\n",
    "parquet\n",
    "HBase\n",
    "jdbc\n",
    "hive\n",
    "'''"
   ]
  },
  {
   "cell_type": "code",
   "execution_count": 17,
   "metadata": {},
   "outputs": [
    {
     "name": "stdout",
     "output_type": "stream",
     "text": [
      "+--------+-------------------+--------+-----------+----------+---------+\n",
      "|ID_MARCA|              MARCA|ID_LINHA|      LINHA|DATA_VENDA|QTD_VENDA|\n",
      "+--------+-------------------+--------+-----------+----------+---------+\n",
      "|       4|               VULT|       2| PERFUMARIA|01/15/2019|        7|\n",
      "|       4|               VULT|       2| PERFUMARIA|10/12/2019|        2|\n",
      "|       3|QUEM DISSE BERENICE|       5|HIDRATANTES|09/01/2019|        3|\n",
      "|       3|QUEM DISSE BERENICE|       3|  MAQUIAGEM|07/29/2019|       17|\n",
      "|       1|          BOTICÁRIO|       4|      SOLAR|11/15/2019|       19|\n",
      "|       2|             EUDORA|       1|    CABELOS|03/08/2019|        9|\n",
      "|       2|             EUDORA|       4|      SOLAR|02/24/2019|        6|\n",
      "|       3|QUEM DISSE BERENICE|       1|    CABELOS|09/27/2019|        4|\n",
      "|       5|      BELEZA NA WEB|       3|  MAQUIAGEM|01/26/2019|       12|\n",
      "|       4|               VULT|       1|    CABELOS|02/24/2019|        9|\n",
      "|       3|QUEM DISSE BERENICE|       2| PERFUMARIA|10/18/2019|        7|\n",
      "|       3|QUEM DISSE BERENICE|       4|      SOLAR|06/03/2019|       19|\n",
      "|       2|             EUDORA|       5|HIDRATANTES|06/03/2019|       14|\n",
      "|       4|               VULT|       5|HIDRATANTES|10/08/2019|       19|\n",
      "|       1|          BOTICÁRIO|       1|    CABELOS|05/07/2019|       12|\n",
      "|       2|             EUDORA|       4|      SOLAR|10/29/2019|       13|\n",
      "|       5|      BELEZA NA WEB|       5|HIDRATANTES|01/05/2019|        6|\n",
      "|       2|             EUDORA|       5|HIDRATANTES|06/16/2019|       18|\n",
      "|       2|             EUDORA|       3|  MAQUIAGEM|04/22/2019|       15|\n",
      "|       1|          BOTICÁRIO|       2| PERFUMARIA|07/07/2019|       18|\n",
      "+--------+-------------------+--------+-----------+----------+---------+\n",
      "only showing top 20 rows\n",
      "\n"
     ]
    }
   ],
   "source": [
    "#B. Função que utiliza a linha de cabeçalho como header\n",
    "\n",
    "\n",
    "filename  ='/home/colaborador/notebooks/Base_2019.csv'\n",
    "\n",
    "df  = spark.read.load(filename,format ='csv',header=\"true\")\n",
    "df.show()"
   ]
  },
  {
   "cell_type": "code",
   "execution_count": 20,
   "metadata": {},
   "outputs": [
    {
     "name": "stdout",
     "output_type": "stream",
     "text": [
      "+--------+-------------------+--------+-----------+-------------+---------+\n",
      "|ID_MARCA|              MARCA|ID_LINHA|      LINHA|DATA DE VENDA|QTD_VENDA|\n",
      "+--------+-------------------+--------+-----------+-------------+---------+\n",
      "|       4|               VULT|       2| PERFUMARIA|   01/15/2019|        7|\n",
      "|       4|               VULT|       2| PERFUMARIA|   10/12/2019|        2|\n",
      "|       3|QUEM DISSE BERENICE|       5|HIDRATANTES|   09/01/2019|        3|\n",
      "|       3|QUEM DISSE BERENICE|       3|  MAQUIAGEM|   07/29/2019|       17|\n",
      "|       1|          BOTICÁRIO|       4|      SOLAR|   11/15/2019|       19|\n",
      "|       2|             EUDORA|       1|    CABELOS|   03/08/2019|        9|\n",
      "|       2|             EUDORA|       4|      SOLAR|   02/24/2019|        6|\n",
      "|       3|QUEM DISSE BERENICE|       1|    CABELOS|   09/27/2019|        4|\n",
      "|       5|      BELEZA NA WEB|       3|  MAQUIAGEM|   01/26/2019|       12|\n",
      "|       4|               VULT|       1|    CABELOS|   02/24/2019|        9|\n",
      "|       3|QUEM DISSE BERENICE|       2| PERFUMARIA|   10/18/2019|        7|\n",
      "|       3|QUEM DISSE BERENICE|       4|      SOLAR|   06/03/2019|       19|\n",
      "|       2|             EUDORA|       5|HIDRATANTES|   06/03/2019|       14|\n",
      "|       4|               VULT|       5|HIDRATANTES|   10/08/2019|       19|\n",
      "|       1|          BOTICÁRIO|       1|    CABELOS|   05/07/2019|       12|\n",
      "|       2|             EUDORA|       4|      SOLAR|   10/29/2019|       13|\n",
      "|       5|      BELEZA NA WEB|       5|HIDRATANTES|   01/05/2019|        6|\n",
      "|       2|             EUDORA|       5|HIDRATANTES|   06/16/2019|       18|\n",
      "|       2|             EUDORA|       3|  MAQUIAGEM|   04/22/2019|       15|\n",
      "|       1|          BOTICÁRIO|       2| PERFUMARIA|   07/07/2019|       18|\n",
      "+--------+-------------------+--------+-----------+-------------+---------+\n",
      "only showing top 20 rows\n",
      "\n"
     ]
    }
   ],
   "source": [
    "# Renomear coluna\n",
    "\n",
    "df  = df.withColumnRenamed(\"DATA_VENDA\",\"DATA DE VENDA\")\n",
    "\n",
    "df.show()"
   ]
  },
  {
   "cell_type": "code",
   "execution_count": 21,
   "metadata": {},
   "outputs": [
    {
     "name": "stdout",
     "output_type": "stream",
     "text": [
      "+-----------+-------------------+--------+-----------+-------------+--------------+\n",
      "|ID DA MARCA|              MARCA|ID_LINHA|      LINHA|DATA DE VENDA|QTDE DE VENDAS|\n",
      "+-----------+-------------------+--------+-----------+-------------+--------------+\n",
      "|          4|               VULT|       2| PERFUMARIA|   01/15/2019|             7|\n",
      "|          4|               VULT|       2| PERFUMARIA|   10/12/2019|             2|\n",
      "|          3|QUEM DISSE BERENICE|       5|HIDRATANTES|   09/01/2019|             3|\n",
      "|          3|QUEM DISSE BERENICE|       3|  MAQUIAGEM|   07/29/2019|            17|\n",
      "|          1|          BOTICÁRIO|       4|      SOLAR|   11/15/2019|            19|\n",
      "|          2|             EUDORA|       1|    CABELOS|   03/08/2019|             9|\n",
      "|          2|             EUDORA|       4|      SOLAR|   02/24/2019|             6|\n",
      "|          3|QUEM DISSE BERENICE|       1|    CABELOS|   09/27/2019|             4|\n",
      "|          5|      BELEZA NA WEB|       3|  MAQUIAGEM|   01/26/2019|            12|\n",
      "|          4|               VULT|       1|    CABELOS|   02/24/2019|             9|\n",
      "|          3|QUEM DISSE BERENICE|       2| PERFUMARIA|   10/18/2019|             7|\n",
      "|          3|QUEM DISSE BERENICE|       4|      SOLAR|   06/03/2019|            19|\n",
      "|          2|             EUDORA|       5|HIDRATANTES|   06/03/2019|            14|\n",
      "|          4|               VULT|       5|HIDRATANTES|   10/08/2019|            19|\n",
      "|          1|          BOTICÁRIO|       1|    CABELOS|   05/07/2019|            12|\n",
      "|          2|             EUDORA|       4|      SOLAR|   10/29/2019|            13|\n",
      "|          5|      BELEZA NA WEB|       5|HIDRATANTES|   01/05/2019|             6|\n",
      "|          2|             EUDORA|       5|HIDRATANTES|   06/16/2019|            18|\n",
      "|          2|             EUDORA|       3|  MAQUIAGEM|   04/22/2019|            15|\n",
      "|          1|          BOTICÁRIO|       2| PERFUMARIA|   07/07/2019|            18|\n",
      "+-----------+-------------------+--------+-----------+-------------+--------------+\n",
      "only showing top 20 rows\n",
      "\n"
     ]
    }
   ],
   "source": [
    "# Renomear multiplas colunas\n",
    "\n",
    "df  = df.withColumnRenamed(\"ID_MARCA\",\"ID DA MARCA\") \\\n",
    "        .withColumnRenamed('QTD_VENDA','QTDE DE VENDAS')\n",
    "\n",
    "df.show()"
   ]
  },
  {
   "cell_type": "code",
   "execution_count": 25,
   "metadata": {},
   "outputs": [
    {
     "name": "stdout",
     "output_type": "stream",
     "text": [
      "+-----------+-------------------+--------+-----------+-------------+--------------+-------------------+\n",
      "|ID DA MARCA|              MARCA|ID_LINHA|      LINHA|DATA DE VENDA|QTDE DE VENDAS|             MARCA2|\n",
      "+-----------+-------------------+--------+-----------+-------------+--------------+-------------------+\n",
      "|          4|               VULT|       2| PERFUMARIA|   01/15/2019|             7|               VULT|\n",
      "|          4|               VULT|       2| PERFUMARIA|   10/12/2019|             2|               VULT|\n",
      "|          3|QUEM DISSE BERENICE|       5|HIDRATANTES|   09/01/2019|             3|QUEM DISSE BERENICE|\n",
      "|          3|QUEM DISSE BERENICE|       3|  MAQUIAGEM|   07/29/2019|            17|QUEM DISSE BERENICE|\n",
      "|          1|          BOTICÁRIO|       4|      SOLAR|   11/15/2019|            19|          BOTICÁRIO|\n",
      "|          2|             EUDORA|       1|    CABELOS|   03/08/2019|             9|             EUDORA|\n",
      "|          2|             EUDORA|       4|      SOLAR|   02/24/2019|             6|             EUDORA|\n",
      "|          3|QUEM DISSE BERENICE|       1|    CABELOS|   09/27/2019|             4|QUEM DISSE BERENICE|\n",
      "|          5|      BELEZA NA WEB|       3|  MAQUIAGEM|   01/26/2019|            12|      BELEZA NA WEB|\n",
      "|          4|               VULT|       1|    CABELOS|   02/24/2019|             9|               VULT|\n",
      "|          3|QUEM DISSE BERENICE|       2| PERFUMARIA|   10/18/2019|             7|QUEM DISSE BERENICE|\n",
      "|          3|QUEM DISSE BERENICE|       4|      SOLAR|   06/03/2019|            19|QUEM DISSE BERENICE|\n",
      "|          2|             EUDORA|       5|HIDRATANTES|   06/03/2019|            14|             EUDORA|\n",
      "|          4|               VULT|       5|HIDRATANTES|   10/08/2019|            19|               VULT|\n",
      "|          1|          BOTICÁRIO|       1|    CABELOS|   05/07/2019|            12|          BOTICÁRIO|\n",
      "|          2|             EUDORA|       4|      SOLAR|   10/29/2019|            13|             EUDORA|\n",
      "|          5|      BELEZA NA WEB|       5|HIDRATANTES|   01/05/2019|             6|      BELEZA NA WEB|\n",
      "|          2|             EUDORA|       5|HIDRATANTES|   06/16/2019|            18|             EUDORA|\n",
      "|          2|             EUDORA|       3|  MAQUIAGEM|   04/22/2019|            15|             EUDORA|\n",
      "|          1|          BOTICÁRIO|       2| PERFUMARIA|   07/07/2019|            18|          BOTICÁRIO|\n",
      "+-----------+-------------------+--------+-----------+-------------+--------------+-------------------+\n",
      "only showing top 20 rows\n",
      "\n"
     ]
    }
   ],
   "source": [
    "# Copiar uma coluna e renomear\n",
    "\n",
    "df = df.withColumn('MARCA2',col('MARCA'))\n",
    "df.show()"
   ]
  },
  {
   "cell_type": "code",
   "execution_count": 26,
   "metadata": {},
   "outputs": [
    {
     "name": "stdout",
     "output_type": "stream",
     "text": [
      "+-------------------+-----------+\n",
      "|        NOME_MARCAS|      LINHA|\n",
      "+-------------------+-----------+\n",
      "|               VULT| PERFUMARIA|\n",
      "|               VULT| PERFUMARIA|\n",
      "|QUEM DISSE BERENICE|HIDRATANTES|\n",
      "|QUEM DISSE BERENICE|  MAQUIAGEM|\n",
      "|          BOTICÁRIO|      SOLAR|\n",
      "|             EUDORA|    CABELOS|\n",
      "|             EUDORA|      SOLAR|\n",
      "|QUEM DISSE BERENICE|    CABELOS|\n",
      "|      BELEZA NA WEB|  MAQUIAGEM|\n",
      "|               VULT|    CABELOS|\n",
      "|QUEM DISSE BERENICE| PERFUMARIA|\n",
      "|QUEM DISSE BERENICE|      SOLAR|\n",
      "|             EUDORA|HIDRATANTES|\n",
      "|               VULT|HIDRATANTES|\n",
      "|          BOTICÁRIO|    CABELOS|\n",
      "|             EUDORA|      SOLAR|\n",
      "|      BELEZA NA WEB|HIDRATANTES|\n",
      "|             EUDORA|HIDRATANTES|\n",
      "|             EUDORA|  MAQUIAGEM|\n",
      "|          BOTICÁRIO| PERFUMARIA|\n",
      "+-------------------+-----------+\n",
      "only showing top 20 rows\n",
      "\n"
     ]
    }
   ],
   "source": [
    "# Renomar coluna usando o alias\n",
    "\n",
    "df.select(df[\"MARCA2\"].alias(\"NOME_MARCAS\"),\"LINHA\").show()"
   ]
  }
 ],
 "metadata": {
  "kernelspec": {
   "display_name": "Python 3.9.13 64-bit",
   "language": "python",
   "name": "python3"
  },
  "language_info": {
   "codemirror_mode": {
    "name": "ipython",
    "version": 3
   },
   "file_extension": ".py",
   "mimetype": "text/x-python",
   "name": "python",
   "nbconvert_exporter": "python",
   "pygments_lexer": "ipython3",
   "version": "3.9.13"
  },
  "vscode": {
   "interpreter": {
    "hash": "b0fa6594d8f4cbf19f97940f81e996739fb7646882a419484c72d19e05852a7e"
   }
  }
 },
 "nbformat": 4,
 "nbformat_minor": 4
}
