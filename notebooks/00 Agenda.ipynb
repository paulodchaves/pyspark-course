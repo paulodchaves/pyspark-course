{
 "cells": [
  {
   "cell_type": "code",
   "execution_count": null,
   "metadata": {},
   "outputs": [],
   "source": [
    "# Treinamento de PySpark para Engenheiros\n",
    "\n",
    "<img src=\"https://spark.apache.org/images/spark-logo.png\" />\n",
    "\n",
    "## 00. Agenda\n",
    "\n",
    "01. [Configurando ambiente](01%20Configurando%20ambiente.ipynb)\n",
    "02. [Criando DataFrames e Manipulando colunas ](02%20Conceitos%20basicos%20PySpark.ipynb)\n",
    "03. [Salvando DataFrames e DataFrame operations]\n",
    "04. [Columns, Expressions e DataFrame operations]\n",
    "05. [Combinando várias condições e RDD]\n",
    "06. [Pandas e SQL Queries]\n",
    "07. [Functions e UDFs]"
   ]
  }
 ],
 "metadata": {
  "kernelspec": {
   "display_name": "Python 3 (ipykernel)",
   "language": "python",
   "name": "python3"
  },
  "language_info": {
   "codemirror_mode": {
    "name": "ipython",
    "version": 3
   },
   "file_extension": ".py",
   "mimetype": "text/x-python",
   "name": "python",
   "nbconvert_exporter": "python",
   "pygments_lexer": "ipython3",
   "version": "3.10.4"
  },
  "vscode": {
   "interpreter": {
    "hash": "b0fa6594d8f4cbf19f97940f81e996739fb7646882a419484c72d19e05852a7e"
   }
  }
 },
 "nbformat": 4,
 "nbformat_minor": 4
}
